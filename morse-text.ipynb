{
 "cells": [
  {
   "cell_type": "code",
   "execution_count": 1,
   "id": "15e93a4c",
   "metadata": {},
   "outputs": [
    {
     "name": "stdout",
     "output_type": "stream",
     "text": [
      "Please select the format:\n",
      "1.text to code\n",
      "2.code to text\n",
      "1\n",
      "Please enter the text:\n",
      "Hey\n",
      "...././-.--/"
     ]
    }
   ],
   "source": [
    "# Create a dictionary\n",
    "dic={'A':'.-','B':'-...','C':'-.-','D':'-..','E':'.','F':'..-.','G':'--.','H':'....','I':'..','J':'.---',\n",
    "     'K':'-.-','L':'.-..','M':'--','N':'-.','O':'---','P':'.--','Q':'--.-','R':'.-.','S':'...','T':'-',\n",
    "     'U':'..-','V':'...-','W':'.--','X':'-..-','Y':'-.--','Z':'--..',\n",
    "    '1':'.----','2':'..---','3':'...--','4':'....-','5':'.....',\n",
    "     '6':'-....','7':'--...','8':'---..','9':'----.','0':'-----',\n",
    "    '.':'.-.-.-',':':'--..--','?':'..--..'}\n",
    "option=int(input(\"Please select the format:\\n1.text to code\\n2.code to text\\n\"))\n",
    "if option==1:\n",
    "    text=input(\"Please enter the text:\\n\")\n",
    "    for i in text:\n",
    "        if i.upper() in dic.keys():\n",
    "            print(dic[i.upper()],end='/')\n",
    "        elif i==' ':\n",
    "            print(' ',end='/')\n",
    "        elif i.isdigit():\n",
    "            print(dic[i],end='/')\n",
    "        else:\n",
    "            print(i,end='/')\n",
    "elif option==2:\n",
    "    code=list(input(\"Please use only '.' or '-', and use '/' for seperating:\").split(\"/\"))\n",
    "    a=[]\n",
    "    for i in code:\n",
    "        if i in dic.values():\n",
    "            #print(list(dic.keys())[list(dic.values()).index[i]].lower(),end=\"\")\n",
    "            a.extend([k.lower() for k,v in dic.items() if v==i])\n",
    "        elif i==' ':\n",
    "            a.extend(' ')\n",
    "        else:\n",
    "            a.extend(i)\n",
    "    for i in a:\n",
    "        print(i,end=\"\")\n",
    "else:\n",
    "    print(\"Please enter 1 or 2 only. Re-run the program\")"
   ]
  },
  {
   "cell_type": "markdown",
   "id": "f9315c1a",
   "metadata": {},
   "source": [
    "Please select the format:\n",
    "\n",
    "1.text to code\n",
    "\n",
    "2.code to text\n",
    "\n",
    "1\n",
    "\n",
    "Please enter the text:\n",
    "\n",
    "**Hello Everyone**\n",
    "\n",
    "**...././.-../.-../---/ /./...-/./.-./-.--/---/-././**\n",
    "\n",
    "Please select the format:\n",
    "\n",
    "1.text to code\n",
    "\n",
    "2.code to text\n",
    "\n",
    "2\n",
    "\n",
    "Please use only '.' or '-', and use '/' for seperating:**...././.-../.-../---/ /./...-/./.-./-.--/---/-././**\n",
    "\n",
    "**hello everyone**"
   ]
  }
 ],
 "metadata": {
  "kernelspec": {
   "display_name": "Python 3",
   "language": "python",
   "name": "python3"
  },
  "language_info": {
   "codemirror_mode": {
    "name": "ipython",
    "version": 3
   },
   "file_extension": ".py",
   "mimetype": "text/x-python",
   "name": "python",
   "nbconvert_exporter": "python",
   "pygments_lexer": "ipython3",
   "version": "3.8.8"
  }
 },
 "nbformat": 4,
 "nbformat_minor": 5
}
